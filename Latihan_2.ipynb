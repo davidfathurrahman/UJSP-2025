{
  "nbformat": 4,
  "nbformat_minor": 0,
  "metadata": {
    "colab": {
      "provenance": []
    },
    "kernelspec": {
      "name": "python3",
      "display_name": "Python 3"
    },
    "language_info": {
      "name": "python"
    }
  },
  "cells": [
    {
      "cell_type": "code",
      "execution_count": null,
      "metadata": {
        "id": "WRJO5r4ICFWl"
      },
      "outputs": [],
      "source": [
        "# Latihan Training set dan Test set\n",
        "from sklearn.model_selection import train_test_split\n",
        "\n",
        "X_data = range(20)\n",
        "y_data = range(20)"
      ]
    },
    {
      "cell_type": "code",
      "source": [
        "print(\"random_state ditentukan\")\n",
        "for i in range(3):\n",
        "    X_train, X_test, y_train, y_test = train_test_split(X_data, y_data, test_size = 0.3, random_state = 42)\n",
        "    print(y_test)\n",
        "\n",
        "print(\"random_state tidak ditentukan\")\n",
        "for i in range(3):\n",
        "    X_train, X_test, y_train, y_test = train_test_split(X_data, y_data, test_size = 0.3, random_state = None)\n",
        "    print(y_test)"
      ],
      "metadata": {
        "colab": {
          "base_uri": "https://localhost:8080/"
        },
        "id": "yrDQOKS6CQq4",
        "outputId": "313d4821-01e8-426e-8113-3b320661cd7b"
      },
      "execution_count": null,
      "outputs": [
        {
          "output_type": "stream",
          "name": "stdout",
          "text": [
            "random_state ditentukan\n",
            "[0, 17, 15, 1, 8, 5]\n",
            "[0, 17, 15, 1, 8, 5]\n",
            "[0, 17, 15, 1, 8, 5]\n",
            "random_state tidak ditentukan\n",
            "[1, 3, 11, 6, 2, 13]\n",
            "[18, 16, 5, 17, 14, 13]\n",
            "[5, 19, 6, 3, 12, 17]\n"
          ]
        }
      ]
    },
    {
      "cell_type": "code",
      "source": [
        "# Latihan SKLearn Train Test Split Coding\n",
        "import sklearn\n",
        "from sklearn import datasets"
      ],
      "metadata": {
        "id": "_pDWBgIRCbfQ"
      },
      "execution_count": null,
      "outputs": []
    },
    {
      "cell_type": "code",
      "source": [
        "# load iris dataset\n",
        "iris = datasets.load_iris()"
      ],
      "metadata": {
        "id": "f7o2D_QCCewi"
      },
      "execution_count": null,
      "outputs": []
    },
    {
      "cell_type": "code",
      "source": [
        "# pisahkan atribut dan label pada iris dataset\n",
        "x = iris.data\n",
        "y = iris.target"
      ],
      "metadata": {
        "id": "GbgOEgJYCh0l"
      },
      "execution_count": null,
      "outputs": []
    }
  ]
}